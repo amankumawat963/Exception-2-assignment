{
 "cells": [
  {
   "cell_type": "code",
   "execution_count": 1,
   "id": "56b70017-1453-4a98-872e-2e751c46a471",
   "metadata": {},
   "outputs": [],
   "source": [
    "# Q1.\n",
    "#To improve readability of your code.\n",
    "#To enhance reusability of features.\n",
    "#To provide custom messages/instructions to users for specific use cases."
   ]
  },
  {
   "cell_type": "code",
   "execution_count": 4,
   "id": "40c2f71f-e11e-4917-b18f-27b72cc963cb",
   "metadata": {},
   "outputs": [
    {
     "ename": "SyntaxError",
     "evalue": "unmatched ')' (2975481333.py, line 9)",
     "output_type": "error",
     "traceback": [
      "\u001b[0;36m  Cell \u001b[0;32mIn[4], line 9\u001b[0;36m\u001b[0m\n\u001b[0;31m    classtree(Exception))\u001b[0m\n\u001b[0m                        ^\u001b[0m\n\u001b[0;31mSyntaxError\u001b[0m\u001b[0;31m:\u001b[0m unmatched ')'\n"
     ]
    }
   ],
   "source": [
    "#Q2.\n",
    "import inspect\n",
    "print(\"The class hierarchy for built-in exceptions is:\")\n",
    "inspect.getclasstree(inspect.getmro(Exception))\n",
    "def classtree(cls, indent=0):\n",
    "    print('.' * indent, cls.__name__)\n",
    "    for subcls in cls.__subclasses__():\n",
    "        classtree(subcls, indent + 3)\n",
    "classtree(Exception)\n"
   ]
  },
  {
   "cell_type": "code",
   "execution_count": 6,
   "id": "72b71d44-29a6-4b2c-a253-f000e1660281",
   "metadata": {},
   "outputs": [
    {
     "name": "stdout",
     "output_type": "stream",
     "text": [
      "division by zero\n"
     ]
    }
   ],
   "source": [
    "#Q3.These errors include attempting to perform a bitshift by a negative amount, and any call to intdiv() that would result in a value outside the possible bounds of an int.\n",
    "#EXAMPLE 1\n",
    "try:\n",
    "    1/0\n",
    "except ArithmeticError as e:\n",
    "    print(e)"
   ]
  },
  {
   "cell_type": "code",
   "execution_count": 7,
   "id": "991cf62a-8689-4482-9d3a-ce7b7849e022",
   "metadata": {},
   "outputs": [
    {
     "name": "stdout",
     "output_type": "stream",
     "text": [
      "(34, 'Numerical result out of range')\n"
     ]
    }
   ],
   "source": [
    "#Example 2\n",
    "j = 5.0\n",
    "\n",
    "try:\n",
    "    for i in range(1, 1000):\n",
    "        j = j**i\n",
    "except ArithmeticError as e:\n",
    "    print(e)"
   ]
  },
  {
   "cell_type": "code",
   "execution_count": 16,
   "id": "08989403-162b-4773-b476-0a75fbd83da5",
   "metadata": {},
   "outputs": [
    {
     "name": "stdout",
     "output_type": "stream",
     "text": [
      "list index out of range\n"
     ]
    }
   ],
   "source": [
    "#Q4.The LookupError exception in Python forms the base class for all exceptions that are raised when an index or a key is not found for a sequence or dictionary respectively.\n",
    "\n",
    "#You can use LookupError exception class to handle both IndexError and KeyError exception classes.\n",
    "#EXAMPLE\n",
    "\n",
    "try:\n",
    "    x = [1, 2, 3, 4]\n",
    "    print(x[10])\n",
    "except IndexError as e:\n",
    "    print(e)"
   ]
  },
  {
   "cell_type": "code",
   "execution_count": 18,
   "id": "42c19f11-24c8-4d00-b190-b172b880640e",
   "metadata": {},
   "outputs": [
    {
     "name": "stdout",
     "output_type": "stream",
     "text": [
      "'name1'\n"
     ]
    }
   ],
   "source": [
    "\n",
    "try:\n",
    "    a = {'name': 'Lenin Mishra',\n",
    "                'age': 28,\n",
    "                'language': 'Python'}\n",
    "    print(a[\"name1\"])\n",
    "except KeyError as e:\n",
    "    print(e)    "
   ]
  },
  {
   "cell_type": "code",
   "execution_count": 20,
   "id": "983de3c8-404e-4217-b1b1-2dd016e2c280",
   "metadata": {},
   "outputs": [
    {
     "name": "stdout",
     "output_type": "stream",
     "text": [
      "No module named 'aman'\n"
     ]
    }
   ],
   "source": [
    "#Q5. Python's ImportError ( ModuleNotFoundError ) indicates that you tried to import a module that Python doesn't find.\n",
    "try:\n",
    "    import aman\n",
    "except ImportError as e:\n",
    "    print(e)\n"
   ]
  },
  {
   "cell_type": "code",
   "execution_count": null,
   "id": "599ddb94-3247-40c0-82b5-8db1bbb8cac6",
   "metadata": {},
   "outputs": [],
   "source": [
    "#Q6.\n",
    "#Explicit is better than implicit. Exceptions in Python have the following clauses: ...\n",
    "#Flat is better than nested. ...\n",
    "#Write custom exceptions. ...\n",
    "#Keep your try/except blocks narrow. ...\n",
    "#Actually use them. ...\n",
    "#Verbose logging. ...\n",
    "#Rely on tools (remote environments)"
   ]
  }
 ],
 "metadata": {
  "kernelspec": {
   "display_name": "Python 3 (ipykernel)",
   "language": "python",
   "name": "python3"
  },
  "language_info": {
   "codemirror_mode": {
    "name": "ipython",
    "version": 3
   },
   "file_extension": ".py",
   "mimetype": "text/x-python",
   "name": "python",
   "nbconvert_exporter": "python",
   "pygments_lexer": "ipython3",
   "version": "3.10.8"
  }
 },
 "nbformat": 4,
 "nbformat_minor": 5
}
